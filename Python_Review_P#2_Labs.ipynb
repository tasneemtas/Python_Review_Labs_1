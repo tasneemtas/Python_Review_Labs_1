{
 "cells": [
  {
   "cell_type": "markdown",
   "id": "fd7b73d1",
   "metadata": {},
   "source": [
    "## Lab1-Loop\n",
    "\n",
    "### 1) Using range(), make a range from 45 to 210, using a for loop iterate over the sequence and print the elements. Skip the number 100 and break the loop at 205.\n",
    "\n",
    "### 2) Using a while loop and input, do the following:\n",
    "- Ask the the user : \"what is the product of 7 * 24 ?\"\n",
    "- check if the answer is right then exit the loop and print \"You answered this Question correctly\".\n",
    "- if the answer is wrong, then print \"Your Answer is wrong try again..\" and show the user the question again."
   ]
  },
  {
   "cell_type": "code",
   "execution_count": null,
   "id": "81576461",
   "metadata": {},
   "outputs": [],
   "source": [
    "while True:\n",
    "    Question = input(\"what is the product of 7 * 24 ?\")\n",
    "    if Question == '168': #I put \"\" because the answer from the user will be string and we want to cpompare it with correct answer, so we should change the integer type to compare string with string. \n",
    "        print(\"You answered this question correctly.\")\n",
    "        break\n",
    "    else:\n",
    "        print(\"Your answer is wrong, try again..\")"
   ]
  },
  {
   "cell_type": "code",
   "execution_count": null,
   "id": "c91dcd2c",
   "metadata": {},
   "outputs": [],
   "source": []
  },
  {
   "cell_type": "markdown",
   "id": "5887393a",
   "metadata": {},
   "source": [
    "## Lab2-Functions\n",
    "\n",
    "### Create a function that takes one parameter of type int, then it prints out the result formatted like the following pattern (if we give it 5 for example):\n",
    "5 4 3 2 1   \n",
    "4 3 2 1   \n",
    "3 2 1   \n",
    "2 1   \n",
    "1   "
   ]
  },
  {
   "cell_type": "code",
   "execution_count": null,
   "id": "44c6b152",
   "metadata": {},
   "outputs": [],
   "source": [
    "def pattern(n):\n",
    "    for i in range(n, 0, -1):\n",
    "        for j in range(i, 0, -1):\n",
    "            print(j, end=\" \")\n",
    "        print()\n",
    "\n",
    "pattern(5)"
   ]
  }
 ],
 "metadata": {
  "kernelspec": {
   "display_name": "Python 3 (ipykernel)",
   "language": "python",
   "name": "python3"
  },
  "language_info": {
   "codemirror_mode": {
    "name": "ipython",
    "version": 3
   },
   "file_extension": ".py",
   "mimetype": "text/x-python",
   "name": "python",
   "nbconvert_exporter": "python",
   "pygments_lexer": "ipython3",
   "version": "3.11.7"
  }
 },
 "nbformat": 4,
 "nbformat_minor": 5
}
