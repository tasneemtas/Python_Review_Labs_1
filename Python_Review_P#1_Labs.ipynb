{
 "cells": [
  {
   "cell_type": "markdown",
   "id": "b97dc926",
   "metadata": {},
   "source": [
    "## Lab1-Variables\n",
    "- Define a variable that has a value of your favourite season.\n",
    "- Define “x“ variable has an integer value and variable “y” has a float value.\n",
    "- Assign One Value to Multiple Variables.\n",
    "- Assign Many Values to Multiple Variables."
   ]
  },
  {
   "cell_type": "code",
   "execution_count": null,
   "id": "8d2579eb",
   "metadata": {},
   "outputs": [],
   "source": [
    "fav_season = \"winter\"\n",
    "\n",
    "x = 1\n",
    "y = 4.14\n",
    "\n",
    "a = b = c = d = 5\n",
    "\n",
    "e, f, g = 6, 7, 8"
   ]
  },
  {
   "cell_type": "markdown",
   "id": "e6d060b4",
   "metadata": {},
   "source": [
    "## Lab2-Conditions\n",
    "\n",
    "### You want to recommend a movie to a friend based on the rating and popularity. To accomplish this do the following: \n",
    "\n",
    "- Create a variable for the movie (choose any movie you like).\n",
    "- Create a variable of type int to hold the rating of the movie out of 5. Give this movie rate = 3\n",
    "- Create a popularity score of type float, let it be 72.65\n",
    "- Using an if statement:\n",
    " - Check if the movie rating is 4 or greater and the popularity is greater than 80, print \"Highly recommended\".\n",
    " - Else if the movie rating is 3 or greater and the popularity is greater than 70, print \"I recommended it, It is good\".\n",
    " - Else if the movie rating is 2 or less and the popularity is greater than 60, print \"You should check it out!\".\n",
    " - Else the movie rating is 2 or less and the popularity is less than 50, print \"Don't watch it, It is a waste of time\"."
   ]
  },
  {
   "cell_type": "code",
   "execution_count": null,
   "id": "b41b0f4b",
   "metadata": {},
   "outputs": [],
   "source": [
    "movie = \"apocalypto\"\n",
    "rate = 3\n",
    "popularity_score = 72.65\n",
    "\n",
    "if rate >= 4 and popularity_score > 80:\n",
    "    print(\"Highly recommended.\")\n",
    "elif rate >= 3 and popularity_score > 70:\n",
    "    print(\"I recommended it, It is good.\")\n",
    "elif rate <= 2 and popularity_score > 60:\n",
    "    print(\"You should check it out!\")\n",
    "elif rate <= 2 and popularity_score < 50:\n",
    "    print(\"Don't watch it, it's a waste of time.\")"
   ]
  },
  {
   "cell_type": "code",
   "execution_count": null,
   "id": "dc5c42c6",
   "metadata": {},
   "outputs": [],
   "source": []
  }
 ],
 "metadata": {
  "kernelspec": {
   "display_name": "Python 3 (ipykernel)",
   "language": "python",
   "name": "python3"
  },
  "language_info": {
   "codemirror_mode": {
    "name": "ipython",
    "version": 3
   },
   "file_extension": ".py",
   "mimetype": "text/x-python",
   "name": "python",
   "nbconvert_exporter": "python",
   "pygments_lexer": "ipython3",
   "version": "3.11.7"
  }
 },
 "nbformat": 4,
 "nbformat_minor": 5
}
